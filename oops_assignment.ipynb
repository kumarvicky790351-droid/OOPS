{
  "nbformat": 4,
  "nbformat_minor": 0,
  "metadata": {
    "colab": {
      "provenance": []
    },
    "kernelspec": {
      "name": "python3",
      "display_name": "Python 3"
    },
    "language_info": {
      "name": "python"
    }
  },
  "cells": [
    {
      "cell_type": "markdown",
      "source": [
        "Q1. What is Object-Oriented Programming(OOP)?\n",
        "\n",
        "  Object-Oriented Programming (OOP) is a programming paradigm that organizes code into objects containing data (attributes) and behavior (methods). It focuses on real-world modeling using concepts like encapsulation, inheritance, polymorphism, and abstraction to make code reusable, modular, and easier to maintain.\n"
      ],
      "metadata": {
        "id": "WstBoIN0OsJM"
      }
    },
    {
      "cell_type": "markdown",
      "source": [
        "Q2. What is a Class in OOP?\n",
        "\n",
        "  In OOP, a class is a blueprint or template for creating objects. It defines the attributes (data/variables) and methods (functions/behaviors) that the objects created from it will have.\n",
        ">Syntax :\n",
        "\n",
        "class ClassName:\n",
        "    # attributes (variables)\n",
        "    \n",
        "    # methods (functions)\n",
        "    def method_name(self, parameters):\n",
        "        # code block\n",
        "        pass"
      ],
      "metadata": {
        "id": "mSmlD9RGQKKR"
      }
    },
    {
      "cell_type": "markdown",
      "source": [
        "Q3. What is an Object in OOP?\n",
        "\n",
        "      In OOP, an object is an instance of a class.\n",
        "      It represents a real-world entity that has its own data (attributes) and can perform actions (methods) defined in the class.\n"
      ],
      "metadata": {
        "id": "80iMpyZ9QszZ"
      }
    },
    {
      "cell_type": "code",
      "source": [
        "  class Car:\n",
        "    def __init__(self, brand, model):\n",
        "        self.brand = brand\n",
        "        self.model = model\n",
        "\n",
        "    def display(self):\n",
        "        print(f\"Car: {self.brand} {self.model}\")\n",
        "\n",
        "# Creating objects\n",
        "car1 = Car(\"Tesla\", \"Model X\")   # object 1\n",
        "car2 = Car(\"BMW\", \"i8\")          # object 2\n",
        "\n",
        "car1.display()\n",
        "car2.display()"
      ],
      "metadata": {
        "colab": {
          "base_uri": "https://localhost:8080/"
        },
        "id": "XF7De28YSSqY",
        "outputId": "837de394-684b-4ac3-c5a7-99900144d41f"
      },
      "execution_count": null,
      "outputs": [
        {
          "output_type": "stream",
          "name": "stdout",
          "text": [
            "Car: Tesla Model X\n",
            "Car: BMW i8\n"
          ]
        }
      ]
    },
    {
      "cell_type": "markdown",
      "source": [
        "Q4. What is the Difference between Abstraction and Encapsulation?\n",
        "\n",
        "1. Definition:\n",
        "\n",
        ">>Abstraction: Hides implementation details and shows only the essential features.\n",
        "\n",
        ">>Encapsulation: Hides data by bundling variables and methods inside a class.\n",
        "\n",
        "2. Focus:\n",
        "\n",
        ">>Abstraction: Focuses on what an object does.\n",
        "\n",
        ">>Encapsulation: Focuses on how data is accessed and protected.\n",
        "\n",
        "3. Achieved By:\n",
        "\n",
        ">>Abstraction: Through abstract classes and interfaces.\n",
        "\n",
        ">>Encapsulation: Through access modifiers (public, private, protected).\n",
        "\n",
        "4. Purpose:\n",
        "\n",
        ">>Abstraction: To reduce complexity for the user.\n",
        "\n",
        ">>Encapsulation: To ensure security and controlled access to data.\n",
        "\n",
        "5. Example:\n",
        "\n",
        ">>Abstraction: A driver presses brake/accelerator without knowing engine details.\n",
        ">>Encapsulation: The engine’s internal data is hidden but controlled via methods."
      ],
      "metadata": {
        "id": "k8283cn3SYFw"
      }
    },
    {
      "cell_type": "markdown",
      "source": [
        "Q5.What are dunder methods in Python?\n",
        "\n",
        "  Dunder methods in Python (short for Double UNDERSCORE methods) are special built-in methods that begin and end with double underscores (__methodname__).\n",
        "  \n",
        "  They are also called magic methods and are used to define the behavior of objects for built-in operations.\n",
        "\n",
        "   Start and end with __ (example: __init__, __str__, __len__).\n",
        "\n",
        "   They are automatically called by Python in certain situations.\n",
        "\n",
        "   Help in operator overloading and customizing object be\n",
        "\n",
        "\n",
        "\n"
      ],
      "metadata": {
        "id": "PGALTBF8Sxt5"
      }
    },
    {
      "cell_type": "markdown",
      "source": [
        " Q6.Explain the concept of inheritance in OOP.\n",
        "\n",
        "  Inheritance in OOP is a concept where one class (called the child class or derived class) can reuse the properties and methods of another class (called the parent class or base class).\n",
        "\n",
        "  It allows code reusability, extensibility, and helps build a hierarchy of classes.\n",
        "\n",
        "  Key Points:\n",
        "\n",
        "  Parent/Base Class → The class whose features are inherited.\n",
        "\n",
        "  Child/Derived Class → The class that inherits from the parent.\n",
        "  A child class can also have its own additional properties and methods."
      ],
      "metadata": {
        "id": "ZdbzmswPE1O0"
      }
    },
    {
      "cell_type": "markdown",
      "source": [
        "Q7.What is polymorphism in OOP?\n",
        "\n",
        "  Polymorphism in OOP is the ability of an object to take many forms. It allows different classes to be treated through the same interface, and the same operation can behave differently based on the object calling it.\n",
        "\n",
        "  Enables code flexibility and reusability that is achieved via method overloading, method overriding, and operator overloading."
      ],
      "metadata": {
        "id": "97uyxW_DFTzv"
      }
    },
    {
      "cell_type": "code",
      "source": [
        "Class Animal:\n",
        "   def sound(self):\n",
        "      print(\"some generic sound\")\n",
        "class Dog(Animal):\n",
        "   def sound(self):\n",
        "     print(bark)\n",
        "class Cat(Animal):\n",
        "   def sound(self):\n",
        "     print(meow)\n",
        "# using same interface\n",
        "animals = [Dog(), Cat()]\n",
        "  for animal in animals:\n",
        "     animal.sound()"
      ],
      "metadata": {
        "id": "E-QEnatRFtag"
      },
      "execution_count": null,
      "outputs": []
    },
    {
      "cell_type": "markdown",
      "source": [
        "Q8.How is encapsulation achieved in Python?\n",
        "\n",
        "Encapsulation in Python is achieved by restricting access to the internal data of a class and providing controlled access through methods.\n",
        "\n",
        "Key Points:\n",
        "\n",
        "1. Hides the internal details of an object to prevent unauthorized access.\n",
        "\n",
        "2. Uses access modifiers to define visibility:\n",
        "\n",
        "  a. Public (variable) → Accessible from anywhere.\n",
        "  b. Protected (_variable) → Should not be accessed directly outside the class (convention).\n",
        "  c. Private (__variable) → Not accessible directly from outside the class."
      ],
      "metadata": {
        "id": "b-PUVRHwFsvZ"
      }
    },
    {
      "cell_type": "markdown",
      "source": [
        "Q9.What is a constructor in Python?\n",
        "  \n",
        "  A constructor in Python is a special method used to initialize an object’s attributes when the object is created.\n",
        "\n",
        "  Key Points:\n",
        "\n",
        "  1. Always named __init__().\n",
        "\n",
        "  2. Automatically called when an object is created.\n",
        "\n",
        "  3. Can take parameters to initialize object properties.\n",
        "\n",
        "  4. Helps in setting default values for object attributes.\n",
        "\n",
        "  Class Car:\n",
        "    def __init__(self, brand, model):  # Constructor\n",
        "        self.brand = brand\n",
        "        self.model = model\n",
        "\n",
        "    def display(self):\n",
        "        print(f\"Car: {self.brand} {self.model}\")\n",
        "\n",
        "# Object creation\n",
        "car1 = Car(\"Tesla\", \"Model X\")\n",
        "car1.display()\n"
      ],
      "metadata": {
        "id": "A8n_xEvyItoi"
      }
    },
    {
      "cell_type": "markdown",
      "source": [
        "Q10. What are Class and Static Methods in Python?\n",
        "\n",
        "  \n",
        "  In Python, class methods and static methods are special methods that are not tied to a specific object but to the class itself.\n",
        "  \n",
        "  1. Class Method\n",
        "\n",
        "   Defind using the @classmethod decorator.\n",
        "   Takes class as the first parameter (refers to the class,not the object"
      ],
      "metadata": {
        "id": "v77DULY0JM4J"
      }
    },
    {
      "cell_type": "markdown",
      "source": [
        "Q.10 What are class and static methods in Python?\n",
        "\n",
        "In Python, class methods and static methods are special methods that are not tied to a specific object but to the class itself.\n",
        "\n",
        " 1. Class Method\n",
        "    \n",
        "     Defined using the @classmethod decorator.\n",
        "\n",
        "     Takes cls as the first parameter (refers to the class, not the object).\n",
        "\n",
        "     Can access or modify class variables, but cannot access instance variables.\n",
        "     \n",
        "     class Car:\n",
        "        wheels = 4 # class variable\n",
        "\n",
        "\n",
        "        @classmethod\n",
        "         def show_wheels(cls):\n",
        "            print(f\"A car has {cls.wheels} wheels\")\n",
        "     Car.show_wheels()\n",
        "\n",
        "  2. Static Method\n",
        "\n",
        "       Defined using the @staticmethod decorator.\n",
        "       \n",
        "       Does not take self or cls as a parameter.\n",
        "       \n",
        "       Cannot access instance or class variables directly.\n",
        "\n",
        "       Used for utility or helper functions related to the class.\n",
        "\n",
        "    class Car:\n",
        "       @staticmethod\n",
        "       def car_sound():\n",
        "         print(\"Vroom! Vroom!\")\n",
        "     Car.car_sound()    \n"
      ],
      "metadata": {
        "id": "XdJqeib-bPrs"
      }
    },
    {
      "cell_type": "markdown",
      "source": [
        " Q11.What is method overloading in Python?\n",
        "\n",
        "   \n",
        "  >Method Overloading in Python is the ability to define multiple methods with the same name but different parameters (number or type) in the same class.However, Python does not support traditional method overloading like Java or C++.\n",
        "\n",
        "   >If multiple methods with the same name are defined, the last one overrides the previous ones.\n",
        "\n",
        "   >To achieve overloading, we can use default arguments or variable-length arguments (*args, **kwargs).\n",
        "\n",
        "   class Math:\n",
        "      def add(self, *numbers):   # Accepts any number of arguments\n",
        "         return sum(numbers)\n",
        "\n",
        "m = Math()\n",
        "print(m.add(5, 10))       \n",
        "print(m.add(5, 10, 20))  \n"
      ],
      "metadata": {
        "id": "oZDxkPcRiIIe"
      }
    },
    {
      "cell_type": "markdown",
      "source": [
        " Q12.What is method overriding in OOP?\n",
        "\n",
        ">Method Overriding in OOP occurs when a child class provides its own implementation of a method that is already defined in its parent class.\n",
        "\n",
        ">Key Points:\n",
        "\n",
        ">1. Allows runtime polymorphism.\n",
        "\n",
        ">2. The child class method overrides the parent class method with the same name, same parameters.\n",
        "\n",
        ">3. Enables custom behavior in the child class while reusing the parent’s structure."
      ],
      "metadata": {
        "id": "6pKK6cABitP5"
      }
    },
    {
      "cell_type": "markdown",
      "source": [
        "Q13.What is a property decorator in Python?\n",
        "\n",
        ">A property decorator in Python is a built-in @property that allows you to access a method like an attribute.\n",
        "It is mainly used to control access to private variables and provide getter, setter, and deleter functionality in a clean way.\n",
        "\n",
        ">Key Points:\n",
        "\n",
        ">1. @property makes a method behave like a read-only attribute.\n",
        "\n",
        ">2. Can define getter, setter, and deleter for controlled access.\n",
        "\n",
        ">3. Helps in encapsulation without changing how the variable is accessed."
      ],
      "metadata": {
        "id": "7T0AmgBhjYlI"
      }
    },
    {
      "cell_type": "markdown",
      "source": [
        "Q14.Why is polymorphism important in OOP?\n",
        "\n",
        ">Polymorphism is important in OOP because it allows objects of different classes to be treated uniformly through a common interface.\n",
        "\n",
        ">Key Reasons:\n",
        "\n",
        ">1. Code Reusability: Same method name can be used for different object types.\n",
        "\n",
        ">2. Flexibility: Objects can behave differently while using the same method.\n",
        "\n",
        ">3. Simplifies Code: Reduces conditional statements for different object types.\n",
        "\n",
        ">4. Supports Runtime Polymorphism: Methods can be overridden in child classes to provide specific behavior.\n",
        "\n",
        ">5. Easier Maintenance & Extensibility: New classes can be added without changing existing code."
      ],
      "metadata": {
        "id": "YB5MPie-jde4"
      }
    },
    {
      "cell_type": "markdown",
      "source": [
        "Q15.What is an abstract class in Python?\n",
        "\n",
        ">An abstract class in Python is a class that cannot be instantiated and is meant to be inherited by other classes.\n",
        "It is used to define a common interface for a group of subclasses.\n",
        "\n",
        ">Key Points:\n",
        "\n",
        ">1. Created using the abc module and ABC class.\n",
        "\n",
        ">2. Can have abstract methods (declared but not implemented) and concrete methods (with implementation).\n",
        "\n",
        ">3. Ensures that subclasses implement the abstract methods.\n",
        "\n",
        ">4. Cannot create objects of an abstract class directly."
      ],
      "metadata": {
        "id": "OSDQryQ2jiTP"
      }
    },
    {
      "cell_type": "markdown",
      "source": [
        "Q16.What are the advantages of OOP?\n",
        "\n",
        ">Advantages of Object-Oriented Programming (OOP):\n",
        "\n",
        ">1. Modularity: Code is organized into classes and objects, making it easier to manage and debug.\n",
        "\n",
        ">2. Reusability: Classes can be reused across programs using inheritance.\n",
        "\n",
        ">3. Encapsulation: Data and methods are bundled together, protecting internal data from unauthorized access.\n",
        "\n",
        ">4. Abstraction: Hides complex implementation details and shows only essential features.\n",
        "\n",
        ">5. Polymorphism: Same interface can be used for different object types, providing flexibility.\n",
        "\n",
        ">6. Maintainability: OOP code is easier to update and maintain due to modular structure.\n",
        "\n",
        ">7. Real-world modeling: Objects can represent real-world entities, making programs intuitive.\n",
        "\n",
        ">8. Extensibility: New features can be added with minimal changes to existing code."
      ],
      "metadata": {
        "id": "3WcB5iN-jnIY"
      }
    },
    {
      "cell_type": "markdown",
      "source": [
        "Q17.What is the difference between a class variable and an instance variable?\n",
        "\n",
        "> The **comparison of Class Variable vs Instance Variable** :\n",
        "\n",
        "1. **Definition**:\n",
        "\n",
        "   * **Class Variable**: Shared by all instances of the class.\n",
        "   * **Instance Variable**: Unique to each object/instance of the class.\n",
        "\n",
        "2. **Declared**:\n",
        "\n",
        "   * **Class Variable**: Inside the class, **outside any method**.\n",
        "   * **Instance Variable**: Inside the **constructor (`__init__`)** or methods using `self`.\n",
        "\n",
        "3. **Access**:\n",
        "\n",
        "   * **Class Variable**: Accessed by **class name** or **object**.\n",
        "   * **Instance Variable**: Accessed only by the **object** using `self`.\n",
        "\n",
        "4. **Memory**:\n",
        "\n",
        "   * **Class Variable**: Stored **once** for all objects.\n",
        "   * **Instance Variable**: Each object has its **own copy**.\n",
        "\n",
        "5. **Use Case**:\n",
        "   * **Class Variable**: To store **common properties** for all objects.\n",
        "   * **Instance Variable**: To store **object-specific properties**.\n"
      ],
      "metadata": {
        "id": "PGUv7PNGjtmf"
      }
    },
    {
      "cell_type": "markdown",
      "source": [
        "Q18.What is multiple inheritance in Python?\n",
        "\n",
        ">**Multiple Inheritance** in Python is a feature where a **child class can inherit from more than one parent class**.\n",
        "\n",
        "> Key Points:\n",
        "\n",
        ">1. Allows a class to **reuse attributes and methods** from multiple parent classes.\n",
        ">2. Helps in **combining functionalities** from different classes.\n",
        ">3. **Method Resolution Order (MRO)** decides which parent’s method is called if multiple parents have the same method.\n",
        "\n",
        "### **Syntax:**\n",
        "\n",
        "```python\n",
        "class Parent1:\n",
        "    def func1(self):\n",
        "        print(\"Function from Parent1\")\n",
        "\n",
        "class Parent2:\n",
        "    def func2(self):\n",
        "        print(\"Function from Parent2\")\n",
        "\n",
        "class Child(Parent1, Parent2):   # Inherits from both Parent1 and Parent2\n",
        "    def func3(self):\n",
        "        print(\"Function from Child\")\n",
        "\n",
        "c = Child()\n",
        "c.func1()  # Output: Function from Parent1\n",
        "c.func2()  # Output: Function from Parent2\n",
        "c.func3()  # Output: Function from Child\n",
        "```"
      ],
      "metadata": {
        "id": "fj_yYm8Tj5q0"
      }
    },
    {
      "cell_type": "markdown",
      "source": [
        "Q19.Explain the purpose of ‘’__str__’ and ‘__repr__’ ‘ methods in Python.\n",
        "\n",
        ">In Python, `__str__` and `__repr__` are **dunder (magic) methods** used to define the **string representation** of an object.\n",
        "\n",
        "\n",
        ">**1. `__str__`**\n",
        "\n",
        "* Purpose: Returns a **user-friendly, readable string** representation of an object.\n",
        "* Used by the **`print()`** function and **`str()`**.\n",
        "* Goal: Make the object understandable for **end users**.\n",
        "\n",
        "**Example:**\n",
        "\n",
        "```python\n",
        "class Car:\n",
        "    def __init__(self, brand, model):\n",
        "        self.brand = brand\n",
        "        self.model = model\n",
        "\n",
        "    def __str__(self):\n",
        "        return f\"{self.brand} {self.model}\"\n",
        "\n",
        "car = Car(\"Tesla\", \"Model X\")\n",
        "print(car)       # Output: Tesla Model X\n",
        "```\n",
        "\n",
        "\n",
        "\n",
        ">**2. `__repr__`**\n",
        "\n",
        "* Purpose: Returns an **unambiguous string** representation of an object, meant for **developers/debugging**.\n",
        "* Should ideally be **valid Python code** to recreate the object.\n",
        "* Used by **`repr()`** and in the **interactive interpreter**.\n",
        "\n",
        "**Example:**\n",
        "\n",
        "```python\n",
        "class Car:\n",
        "    def __init__(self, brand, model):\n",
        "        self.brand = brand\n",
        "        self.model = model\n",
        "\n",
        "    def __repr__(self):\n",
        "        return f\"Car('{self.brand}', '{self.model}')\"\n",
        "\n",
        "car = Car(\"Tesla\", \"Model X\")\n",
        "print(repr(car))  # Output: Car('Tesla', 'Model X')"
      ],
      "metadata": {
        "id": "SzRuXC1IkMfg"
      }
    },
    {
      "cell_type": "markdown",
      "source": [
        "Q20.What is the significance of the ‘super()’ function in Python?\n",
        "\n",
        ">The super() function in Python is used to call methods from a parent (superclass) inside a child (subclass).\n",
        "\n",
        ">Significance of super()\n",
        "\n",
        ">1. Access Parent Class Methods → Calls the parent class’s constructor (__init__) or other methods without explicitly naming the parent.\n",
        "\n",
        ">2. Code Reusability → Avoids rewriting parent code in the child class.\n",
        "\n",
        ">3. Supports Multiple Inheritance → Ensures the correct Method Resolution Order (MRO) is followed when multiple parents exist.\n",
        "\n",
        ">4. Clean & Maintainable Code → If the parent class name changes, super() still works."
      ],
      "metadata": {
        "id": "daDv4RBRkfz4"
      }
    },
    {
      "cell_type": "markdown",
      "source": [
        "Q21.What is the significance of the __del__ method in Python?\n",
        "\n",
        ">The __del__ method in Python is a destructor method, which is called automatically when an object is about to be destroyed (i.e., when it is no longer referenced in memory).\n",
        "\n",
        ">Significance of __del__:\n",
        "\n",
        ">1. Resource Cleanup → Used to release resources like closing files, network connections, or database connections before the object is deleted.\n",
        "\n",
        ">2. Finalization → Provides a way to define custom cleanup behavior when an object’s life ends.\n",
        "\n",
        ">3. Garbage Collection Support → Called automatically by Python’s garbage collector when an object’s reference count becomes zero."
      ],
      "metadata": {
        "id": "a7JIOW5uko7Y"
      }
    },
    {
      "cell_type": "markdown",
      "source": [
        "Q22.What is the difference between @staticmethod and @classmethod in Python?\n",
        "\n",
        ">Difference between  @staticmethod and @classmethod in Python\n",
        "\n",
        "* **Definition**:\n",
        "  Classmethod → Bound to class, takes `cls`\n",
        "  Staticmethod → Bound to class, no `self` or `cls`\n",
        "\n",
        "* **First Argument**:\n",
        "  Classmethod → `cls` (class reference)\n",
        "  Staticmethod → No default argument\n",
        "\n",
        "* **Access**:\n",
        "  Classmethod → Can access/modify **class variables**\n",
        "  Staticmethod → Cannot access class or instance variables\n",
        "\n",
        "* **Usage**:\n",
        "  Classmethod → When you need to work with the **class state**\n",
        "  Staticmethod → When logic is **independent of class and object**\n",
        "\n",
        "* **Calling**:\n",
        "  Both can be called via **ClassName.method()** or **object.method()**\n"
      ],
      "metadata": {
        "id": "sezv7WQBk8j3"
      }
    },
    {
      "cell_type": "markdown",
      "source": [
        "Q23.How does polymorphism work in Python with inheritance?\n",
        "\n",
        ">**Polymorphism with Inheritance in Python**\n",
        "\n",
        ">>Polymorphism means **same method name but different behavior** depending on the object calling it.\n",
        "With **inheritance**, a child class can **override** methods of the parent class, and Python decides at runtime which method to call.\n",
        "\n",
        "> **How it works:**\n",
        "\n",
        ">1. **Parent class defines a method**\n",
        ">2. **Child class overrides (redefines) the same method**\n",
        ">3. **When called through an object**, Python runs the version depending on the object type (runtime polymorphism).\n",
        "\n",
        ">**Example:**\n",
        "\n",
        "```python\n",
        "class Animal:\n",
        "    def sound(self):\n",
        "        return \"Some generic sound\"\n",
        "\n",
        "class Dog(Animal):\n",
        "    def sound(self):\n",
        "        return \"Bark\"\n",
        "class Cat(Animal):\n",
        "    def sound(self):\n",
        "        return \"Meow\"\n",
        "\n",
        "# Polymorphism in action\n",
        "animals = [Dog(), Cat(), Animal()]\n",
        "\n",
        "for a in animals:\n",
        "    print(a.sound())\n",
        "```\n",
        "\n",
        ">**Key Idea:**\n",
        "\n",
        ">Even though all objects (`Dog`, `Cat`, `Animal`) call the same method `.sound()`, the **behavior changes depending on the actual object** → that’s polymorphism with inheritance.\n"
      ],
      "metadata": {
        "id": "wLYbr0yXlHT3"
      }
    },
    {
      "cell_type": "markdown",
      "source": [
        "Q24.What is method chaining in Python OOP?\n",
        "\n",
        "\n",
        ">**Method Chaining in Python OOP**\n",
        "\n",
        "> **Definition:**\n",
        "Method chaining is a technique where you call **multiple methods on the same object in a single line**, because each method **returns the object itself (`self`)**.\n",
        "\n",
        "> **How it works:**\n",
        "\n",
        "* Each method in the class returns `self` instead of some other value.\n",
        "* This allows calls to be **chained together** like:\n",
        "\n",
        "  ```python\n",
        "  obj.method1().method2().method3()\n",
        "  ```\n",
        "\n",
        ">**Example:**\n",
        "\n",
        "```python\n",
        "class Calculator:\n",
        "    def __init__(self, value=0):\n",
        "        self.value = value\n",
        "\n",
        "    def add(self, num):\n",
        "      self.value += num\n",
        "        return self   # returning the object itself\n",
        "\n",
        "    def multiply(self, num):\n",
        "        self.value *= num\n",
        "        return self\n",
        "\n",
        "    def result(self):\n",
        "        return self.value\n",
        "\n",
        "# Method chaining in action\n",
        "calc = Calculator()\n",
        "output = calc.add(10).multiply(5).add(2).result()\n",
        "print(output)\n",
        "```\n",
        "\n",
        "> **Key Point:**\n",
        "\n",
        ">Without chaining → `calc.add(10); calc.multiply(5); calc.add(2)`\n",
        ">With chaining → `calc.add(10).multiply(5).add(2)`\n"
      ],
      "metadata": {
        "id": "NQNj1Kzcl2ee"
      }
    },
    {
      "cell_type": "markdown",
      "source": [
        "Q25.What is the purpose of the __call__ method in Python?\n",
        "\n",
        ">**`__call__` method in Python**\n",
        "\n",
        "> **Definition:**\n",
        "The `__call__` method makes an **object behave like a function**.\n",
        "If a class defines `__call__`, its instances can be called using `object()` syntax, just like a function.\n",
        "\n",
        "---\n",
        "\n",
        "> **Purpose:**\n",
        "\n",
        ">* To allow **objects to be invoked like functions**.\n",
        ">* Useful for **wrapping logic**, **callbacks**, **decorators**, or **function-like classes**.\n",
        "\n",
        "\n",
        ">**Example:**\n",
        "\n",
        "```python\n",
        "class Greeting:\n",
        "    def __init__(self, name):\n",
        "        self.name = name\n",
        "\n",
        "    def __call__(self, message):\n",
        "      return f\"{message}, {self.name}!\"\n",
        "\n",
        "# Create object\n",
        "greet = Greeting(\"Sakshi\")\n",
        "\n",
        "# Call object like a function\n",
        "print(greet(\"Hello\"))\n",
        "print(greet(\"Good Morning\"))\n",
        "```\n",
        "\n",
        "\n",
        ">**Key Point:**\n",
        "\n",
        "* Without `__call__`, you’d have to use a method (`greet.say(\"Hello\")`).\n",
        "* With `__call__`, the object itself can be **directly invoked** like a function.\n"
      ],
      "metadata": {
        "id": "igYQpjAWmDiP"
      }
    },
    {
      "cell_type": "markdown",
      "source": [
        "     ** Practical Questions **"
      ],
      "metadata": {
        "id": "Sc17blJQmWXQ"
      }
    },
    {
      "cell_type": "code",
      "source": [
        "# 1.Create a parent class Animal with a method speak() that prints a generic message. Create a child class Dog that overrides the speak() method to print \"Bark!\".\n",
        "\n",
        "class Animal:\n",
        "    def speak(self):\n",
        "        print(\"Generic animal sound\")\n",
        "\n",
        "class Dog(Animal):\n",
        "    def speak(self):\n",
        "        print(\"Bark!\")\n",
        "#  Create objects\n",
        "animal = Animal()\n",
        "dog = Dog()\n",
        "\n",
        "#  Call methods\n",
        "animal.speak() # Output: Generic animal sound\n",
        "dog.speak()    # Output: Bark!"
      ],
      "metadata": {
        "colab": {
          "base_uri": "https://localhost:8080/"
        },
        "id": "Kvv136zKmlzk",
        "outputId": "912ecdd0-78c1-48fb-f8cd-3e70bac45842"
      },
      "execution_count": null,
      "outputs": [
        {
          "output_type": "stream",
          "name": "stdout",
          "text": [
            "Generic animal sound\n",
            "Bark!\n"
          ]
        }
      ]
    },
    {
      "cell_type": "code",
      "source": [
        "# 2. Write a program to create an abstract class Shape with a method area(). Derive classes Circle and Rectangle from it and implement the area() method in both.\n",
        "\n",
        "from abc import ABC, abstractmethod\n",
        "\n",
        "class Shape(ABC):\n",
        "    @abstractmethod\n",
        "    def area(self):\n",
        "        pass\n",
        "\n",
        "class Circle(Shape):\n",
        "    def area(self, radius):\n",
        "        return 3.14 * radius * radius\n",
        "\n",
        "class Rectangle(Shape):\n",
        "    def area(self, length, width):\n",
        "      return length * width\n",
        "\n",
        "obj1=Circle()\n",
        "obj2=Rectangle()\n",
        "\n",
        "\n",
        "print(\"Area of circle with radius 4 :\",obj1.area(4))\n",
        "print(\"Area of rectangle with sides (3,4) :\",obj2.area(3,4))"
      ],
      "metadata": {
        "colab": {
          "base_uri": "https://localhost:8080/"
        },
        "id": "mwSqNQlHpXkP",
        "outputId": "e84a5d03-f585-4557-e53b-ea06fbd05d59"
      },
      "execution_count": null,
      "outputs": [
        {
          "output_type": "stream",
          "name": "stdout",
          "text": [
            "Area of circle with radius 4 : 50.24\n",
            "Area of rectangle with sides (3,4) : 12\n"
          ]
        }
      ]
    },
    {
      "cell_type": "code",
      "source": [
        "# 3. Implement a multi-level inheritance scenario where a class Vehicle has an attribute type. Derive a class Car and further derive a class Electric Car that adds a battery attribute.\n",
        "\n",
        "class vehical:\n",
        " def start(self):\n",
        "   return \"It is starting\"\n",
        "class Car(vehical):\n",
        "  def engine(self):\n",
        "    return \"Engine started\"\n",
        "class Automatic_car(Car):\n",
        "  def move(self):\n",
        "    return\"the car is moving\"\n",
        "obj1=Car()\n",
        "obj2=Automatic_car()\n",
        "print(\"Function Acessed by Car: \",obj1.start())\n",
        "print(\"Function Acessed by Car: \",obj1.engine())\n",
        "print(\"Function Acessed by Automatic Car: \",obj2.start())\n",
        "print(\"Function Acessed by Automatic Car: \",obj2.engine())\n",
        "print(\"Function Acessed by Automatic Car: \",obj2.move())"
      ],
      "metadata": {
        "id": "BuMe0tpHsoBu",
        "colab": {
          "base_uri": "https://localhost:8080/"
        },
        "outputId": "aa2bd810-8d0a-4617-8d7d-9b7db15b3262"
      },
      "execution_count": 3,
      "outputs": [
        {
          "output_type": "stream",
          "name": "stdout",
          "text": [
            "Function Acessed by Car:  It is starting\n",
            "Function Acessed by Car:  Engine started\n",
            "Function Acessed by Automatic Car:  It is starting\n",
            "Function Acessed by Automatic Car:  Engine started\n",
            "Function Acessed by Automatic Car:  the car is moving\n"
          ]
        }
      ]
    },
    {
      "cell_type": "code",
      "source": [
        "# 4. Demonstrate polymorphism by creating a base class Bird with a method fly(). Create two derived classes Sparrow and Penguin that override the fly() method.\n",
        "\n",
        "class Bird:\n",
        "    def fly(self):\n",
        "        return \"General feature of bird\"\n",
        "class Sparrow(Bird):\n",
        "    def fly(self):\n",
        "      return\"Sparrow can fly\"\n",
        "class Pengiun(Bird):\n",
        "  def fly(self):\n",
        "    return \"Pengiun can't fly\"\n",
        "obj1=Bird()\n",
        "obj2=Sparrow()\n",
        "obj3=Pengiun()\n",
        "print(\"Fly function work differently for Bird , Sparrow , Penguin\")\n",
        "print(\"For bird :\",obj1.fly())\n",
        "print(\"For Sparrow :\",obj2.fly())\n",
        "print(\"For Penguin :\",obj3.fly())\n",
        "\n"
      ],
      "metadata": {
        "colab": {
          "base_uri": "https://localhost:8080/"
        },
        "id": "CzdmjNURX0D-",
        "outputId": "f374a849-9c11-4e6a-9e44-6a318dbaeb62"
      },
      "execution_count": 4,
      "outputs": [
        {
          "output_type": "stream",
          "name": "stdout",
          "text": [
            "Fly function work differently for Bird , Sparrow , Penguin\n",
            "For bird : General feature of bird\n",
            "For Sparrow : Sparrow can fly\n",
            "For Penguin : Pengiun can't fly\n"
          ]
        }
      ]
    },
    {
      "cell_type": "code",
      "source": [
        "# 5. Write a program to demonstrate encapsulation by creating a class Bank Account with private attributes balance and methods to deposit, withdraw, and check balance.\n",
        "\n",
        "class Bank_Account:\n",
        "    def __init__(self,balance):\n",
        "       self._balance = balance\n",
        "\n",
        "    # Deposite method\n",
        "    def deposit(self, amount):\n",
        "        if amount > 0:\n",
        "           self._balance += amount\n",
        "           print(f\"{amount} deposited successfully\")\n",
        "        else:\n",
        "            print(\"Invalid deposit amount\")\n",
        "\n",
        "     # withdraw method\n",
        "    def withdraw(self, amount):\n",
        "         if 0 < amount <= self._balance:\n",
        "             self._balance -= amount\n",
        "             print(f\"{amount} withdrawn successfully\")\n",
        "         else:\n",
        "             print(\"Insufficient balance or invalid amount\")\n",
        "\n",
        "     # Check balance method\n",
        "    def check_balance(self):\n",
        "         print(f\"Current Balance: {self._balance}\")\n",
        "\n",
        "  # Demonstration\n",
        "account = Bank_Account(1000)\n",
        "account.deposit(500)\n",
        "account.withdraw(200)\n",
        "account.check_balance()"
      ],
      "metadata": {
        "colab": {
          "base_uri": "https://localhost:8080/"
        },
        "id": "Ecdf96Koagra",
        "outputId": "9fa49001-5620-4272-cc41-0b0c6b1cfa3b"
      },
      "execution_count": 7,
      "outputs": [
        {
          "output_type": "stream",
          "name": "stdout",
          "text": [
            "500 deposited successfully\n",
            "200 withdrawn successfully\n",
            "Current Balance: 1300\n"
          ]
        }
      ]
    },
    {
      "cell_type": "code",
      "source": [
        "# 6. Demonstrate runtime polymorphism using a method play() in a base class Instrument. Derive classes Guitar and Piano that implement their own version of play().\n",
        "\n",
        "class Instrument():\n",
        "  def play(self):\n",
        "    return \"Instrument playing\"\n",
        "class Guitar(Instrument):\n",
        "  def play(self):\n",
        "     return\"Guitar is playing\"\n",
        "class Piano(Instrument):\n",
        "  def play(self):\n",
        "    return \"piano is playing\"\n",
        "\n",
        "inst=[Instrument(),Guitar(),Piano()]\n",
        "\n",
        "for i in inst:\n",
        "  print(i.play())"
      ],
      "metadata": {
        "colab": {
          "base_uri": "https://localhost:8080/"
        },
        "id": "cGtei3kvesfR",
        "outputId": "a64051fa-dfbe-48f2-92cb-14d7b9462781"
      },
      "execution_count": 9,
      "outputs": [
        {
          "output_type": "stream",
          "name": "stdout",
          "text": [
            "Instrument playing\n",
            "Guitar is playing\n",
            "piano is playing\n"
          ]
        }
      ]
    },
    {
      "cell_type": "code",
      "source": [
        "# 7. Create a class MathOperations with a class method add_numbers() to add two numbers and a static method subtract_numbers() to subtract two numbers.\n",
        "\n",
        "class MathOperations:\n",
        "  @classmethod\n",
        "  def add_numbers(cls,*args):\n",
        "    return sum(args)\n",
        "  @staticmethod\n",
        "  def subtracted_numbers(num1,num2):\n",
        "    return num1-num2\n",
        "\n",
        "print(\"Class Add numbers (4,5)\",MathOperations.add_numbers(4,5))\n",
        "print(\"Static subtract numbers (5,4)\",MathOperations.subtracted_numbers(5,4))"
      ],
      "metadata": {
        "colab": {
          "base_uri": "https://localhost:8080/"
        },
        "id": "LHYB6PwzgP8Z",
        "outputId": "469771ac-aa14-4642-e385-a892dee08f76"
      },
      "execution_count": 12,
      "outputs": [
        {
          "output_type": "stream",
          "name": "stdout",
          "text": [
            "Class Add numbers (4,5) 9\n",
            "Static subtract numbers (5,4) 1\n"
          ]
        }
      ]
    },
    {
      "cell_type": "code",
      "source": [
        "# 8. Implement a class Person with a class method to count the total number of persons created.\n",
        "\n",
        "class Person:\n",
        "    count = 0\n",
        "\n",
        "    def __init__(self,name):\n",
        "        self.name = name\n",
        "        Person.count += 1\n",
        "\n",
        "    @classmethod\n",
        "    def total_persons(cls):\n",
        "        return f\"Total Persons created: {cls.count}\"\n",
        "\n",
        "p1 = Person(\"Sakshi\")\n",
        "p2 = Person(\"Ravi\")\n",
        "p3 = Person(\"Anjali\")\n",
        "\n",
        "print(Person.total_persons())"
      ],
      "metadata": {
        "colab": {
          "base_uri": "https://localhost:8080/"
        },
        "id": "LtgzjQeViWjR",
        "outputId": "110d03dc-ad44-4cc2-dc77-0902007d9767"
      },
      "execution_count": 14,
      "outputs": [
        {
          "output_type": "stream",
          "name": "stdout",
          "text": [
            "Total Persons created: 3\n"
          ]
        }
      ]
    },
    {
      "cell_type": "code",
      "source": [
        "# 9. Write a class Fraction with attributes numerator and denominator. Override the str method to display the fraction as \"numerator/denominator\".\n",
        "\n",
        "class Fraction:\n",
        "    def __init__(self,numerator,denominator):\n",
        "      self.numerator=numerator\n",
        "      self.denominator=denominator\n",
        "    def __str__(self):\n",
        "      return f\"{self.numerator}/{self.denominator}\"\n",
        "\n",
        "f1 = Fraction(3,4)\n",
        "f2 = Fraction(7,2)\n",
        "\n",
        "print(f1)\n",
        "print(f2)"
      ],
      "metadata": {
        "colab": {
          "base_uri": "https://localhost:8080/"
        },
        "id": "v0L7hOEsj46w",
        "outputId": "16468fb2-8234-4657-c589-5181a1207cd5"
      },
      "execution_count": 16,
      "outputs": [
        {
          "output_type": "stream",
          "name": "stdout",
          "text": [
            "3/4\n",
            "7/2\n"
          ]
        }
      ]
    },
    {
      "cell_type": "code",
      "source": [
        "# 10. Demonstrate operator overloading by creating a class Vector and overriding the add method to add two vectors.\n",
        "\n",
        "class Vector:\n",
        "    def __init__(self, x, y):\n",
        "        self.x = x\n",
        "        self.y = y\n",
        "\n",
        "    # Overload the + operator\n",
        "    def __add__(self, other):\n",
        "       return Vector(self.x + other.x, self.y + other.y)\n",
        "\n",
        "    # Overload str to display the vector nicely\n",
        "    def __str__(self):\n",
        "       return f\"({self.x}, {self.y})\"\n",
        "\n",
        "\n",
        "v1 = Vector(2, 3)\n",
        "v2 = Vector(4, 5)\n",
        "\n",
        "v3 = v1 + v2\n",
        "\n",
        "print(v3)"
      ],
      "metadata": {
        "colab": {
          "base_uri": "https://localhost:8080/"
        },
        "id": "I9oxiAnvlZWn",
        "outputId": "ef8a25e1-23a2-4d46-b71b-d7094f76f1f1"
      },
      "execution_count": 2,
      "outputs": [
        {
          "output_type": "stream",
          "name": "stdout",
          "text": [
            "(6, 8)\n"
          ]
        }
      ]
    },
    {
      "cell_type": "code",
      "source": [
        "# 11. Create a class Person with attributes name and age. Add a method greet() that prints \"Hello, my name is {name} and I am {age} years old.\n",
        "\n",
        "class Person:\n",
        "  def __init__(self,name,age):\n",
        "    self.name=name\n",
        "    self.age=age\n",
        "  def greet(self):\n",
        "   return f\"Hello, my name is {self.name} and I am {self.age} years old.\"\n",
        "\n",
        "p=Person('Vickey',27)\n",
        "\n",
        "print(p.greet())"
      ],
      "metadata": {
        "colab": {
          "base_uri": "https://localhost:8080/"
        },
        "id": "Ix4jvchRgfCU",
        "outputId": "380c64ed-e7dc-4f2e-bb45-7f188bd3f6ad"
      },
      "execution_count": 4,
      "outputs": [
        {
          "output_type": "stream",
          "name": "stdout",
          "text": [
            "Hello, my name is Vickey and I am 27 years old.\n"
          ]
        }
      ]
    },
    {
      "cell_type": "code",
      "source": [
        "# 12. Implement a class Student with attributes name and grades. Create a method average_grade() to compute the average of the grades.\n",
        "\n",
        "class Student:\n",
        "  def __init__(self,name,grades):\n",
        "    self.name=name\n",
        "    self.grades=grades\n",
        "  def avg_grade(self):\n",
        "    if len(self.grades)==0:\n",
        "      return 0\n",
        "    return sum(self.grades)/len(self.grades)\n",
        "\n",
        "s=Student(\"Vickey\", [75, 80, 85, 74])\n",
        "print(\"Student Name:\", s.name)\n",
        "print(\"Average Grade:\", s.avg_grade())"
      ],
      "metadata": {
        "colab": {
          "base_uri": "https://localhost:8080/"
        },
        "id": "Yl3z_xd-hL9Z",
        "outputId": "6ca34ccb-a883-464c-d30d-639bd70fbf1f"
      },
      "execution_count": 6,
      "outputs": [
        {
          "output_type": "stream",
          "name": "stdout",
          "text": [
            "Student Name: Vickey\n",
            "Average Grade: 78.5\n"
          ]
        }
      ]
    },
    {
      "cell_type": "code",
      "source": [
        "# 13. Create a class Rectangle with methods set_dimensions() to set the dimensions and area() to calculate the area.\n",
        "\n",
        "class Rectangle:\n",
        "    def __init__(self):\n",
        "        self.length = 0\n",
        "        self.width = 0\n",
        "\n",
        "    def set_dimensions(self, length, width):\n",
        "        self.length = length\n",
        "        self.width = width\n",
        "\n",
        "    def area(self):\n",
        "        return self.length * self.width\n",
        "\n",
        "r1 = Rectangle()\n",
        "r1.set_dimensions(10, 5)\n",
        "print(\"Length:\", r1.length)\n",
        "print(\"Width:\", r1.width)\n",
        "print(\"Area of Rectangle:\", r1.area())"
      ],
      "metadata": {
        "colab": {
          "base_uri": "https://localhost:8080/"
        },
        "id": "yxdzExmdhvfT",
        "outputId": "69ce3b10-fa72-44c4-afb2-ebb0342f9506"
      },
      "execution_count": 7,
      "outputs": [
        {
          "output_type": "stream",
          "name": "stdout",
          "text": [
            "Length: 10\n",
            "Width: 5\n",
            "Area of Rectangle: 50\n"
          ]
        }
      ]
    },
    {
      "cell_type": "code",
      "source": [
        "# 14. Create a class Employee with a method calculate_salary() that computes the salary based on hours worked and hourly rate. Create a derived class Manager that adds a bonus to the salary.\n",
        "\n",
        "class Employee:\n",
        "    def __init__(self, name, hours_worked, hourly_rate):\n",
        "        self.name = name\n",
        "        self.hours_worked = hours_worked\n",
        "        self.hourly_rate = hourly_rate\n",
        "\n",
        "    def calculate_salary(self):\n",
        "        return self.hours_worked * self.hourly_rate\n",
        "\n",
        "\n",
        "class Manager(Employee):\n",
        "    def __init__(self, name, hours_worked, hourly_rate, bonus):\n",
        "        super().__init__(name, hours_worked, hourly_rate)\n",
        "        self.bonus = bonus\n",
        "\n",
        "    def calculate_salary(self):\n",
        "        base_salary = super().calculate_salary()\n",
        "        return base_salary + self.bonus\n",
        "\n",
        "\n",
        "\n",
        "emp1 = Employee(\"Aman\", 40, 200)\n",
        "mgr1 = Manager(\"Vickey\", 40, 300, 5000)\n",
        "print(f\"Employee {emp1.name} Salary: {emp1.calculate_salary()}\")\n",
        "print(f\"Manager {mgr1.name} Salary: {mgr1.calculate_salary()}\")"
      ],
      "metadata": {
        "colab": {
          "base_uri": "https://localhost:8080/"
        },
        "id": "UBU_naSkh9QO",
        "outputId": "d5d7f4a8-5727-4b12-8304-47ef588f067c"
      },
      "execution_count": 9,
      "outputs": [
        {
          "output_type": "stream",
          "name": "stdout",
          "text": [
            "Employee Aman Salary: 8000\n",
            "Manager Vickey Salary: 17000\n"
          ]
        }
      ]
    },
    {
      "cell_type": "code",
      "source": [
        "# 15. Create a class Product with attributes name, price, and quantity. Implement a method total_price() that calculates the total price of the product.\n",
        "\n",
        "class Product:\n",
        "    def __init__(self, name, price, quantity):\n",
        "        self.name = name\n",
        "        self.price = price\n",
        "        self.quantity = quantity\n",
        "\n",
        "    def total_price(self):\n",
        "        return self.price * self.quantity\n",
        "\n",
        "\n",
        "# Example usage\n",
        "p1 = Product(\"Laptop\", 30000, 2)\n",
        "p2 = Product(\"Mobile\", 14000, 3)\n",
        "\n",
        "print(f\"Product: {p1.name}, Total Price: {p1.total_price()}\")\n",
        "print(f\"Product: {p2.name}, Total Price: {p2.total_price()}\")"
      ],
      "metadata": {
        "colab": {
          "base_uri": "https://localhost:8080/"
        },
        "id": "AMnzh_SqiZ3B",
        "outputId": "4392830e-827b-468e-fb08-68f1f22c2d34"
      },
      "execution_count": 11,
      "outputs": [
        {
          "output_type": "stream",
          "name": "stdout",
          "text": [
            "Product: Laptop, Total Price: 60000\n",
            "Product: Mobile, Total Price: 42000\n"
          ]
        }
      ]
    },
    {
      "cell_type": "code",
      "source": [
        "# 16. Create a class Animal with an abstract method sound(). Create two derived classes Cow and Sheep that implement the sound() method.\n",
        "\n",
        "\n",
        "from abc import ABC, abstractmethod\n",
        "\n",
        "class Animal(ABC):   # Abstract class\n",
        "    @abstractmethod\n",
        "    def sound(self):\n",
        "        pass\n",
        "\n",
        "class Cow(Animal):\n",
        "    def sound(self):\n",
        "        return \"Moo\"\n",
        "\n",
        "class Sheep(Animal):\n",
        "    def sound(self):\n",
        "        return \"Baa\"\n",
        "\n",
        "cow = Cow()\n",
        "sheep = Sheep()\n",
        "\n",
        "print(\"Cow Sound:\", cow.sound())\n",
        "print(\"Sheep Sound:\", sheep.sound())\n"
      ],
      "metadata": {
        "colab": {
          "base_uri": "https://localhost:8080/"
        },
        "id": "5-IZxXT4iw7c",
        "outputId": "a86a8df7-ff7b-48a4-bb38-453fa36971d4"
      },
      "execution_count": 12,
      "outputs": [
        {
          "output_type": "stream",
          "name": "stdout",
          "text": [
            "Cow Sound: Moo\n",
            "Sheep Sound: Baa\n"
          ]
        }
      ]
    },
    {
      "cell_type": "code",
      "source": [
        "# 17. Create a class Book with attributes title, author, and year_published. Add a method get_book_info() that returns a formatted string with the book's details.\n",
        "\n",
        "class Book:\n",
        "    def __init__(self, title, author, year_published):\n",
        "        self.title = title\n",
        "        self.author = author\n",
        "        self.year_published = year_published\n",
        "\n",
        "    def get_book_info(self):\n",
        "        return f\"'{self.title}' by {self.author}, published in {self.year_published}\"\n",
        "\n",
        "\n",
        "b1 = Book(\"The Alchemist\", \"Paulo Coelho\", 1988)\n",
        "b2 = Book(\"Python Crash Course\", \"Eric Matthes\", 2015)\n",
        "\n",
        "print(b1.get_book_info())\n",
        "print(b2.get_book_info())\n"
      ],
      "metadata": {
        "colab": {
          "base_uri": "https://localhost:8080/"
        },
        "id": "M8fVQTgtjF6g",
        "outputId": "99eaee3f-3701-4e61-c5b8-a501f25e9f6a"
      },
      "execution_count": 13,
      "outputs": [
        {
          "output_type": "stream",
          "name": "stdout",
          "text": [
            "'The Alchemist' by Paulo Coelho, published in 1988\n",
            "'Python Crash Course' by Eric Matthes, published in 2015\n"
          ]
        }
      ]
    },
    {
      "cell_type": "code",
      "source": [
        " # 18. Create a class House with attributes address and price. Create a derived class Mansion that adds an attribute number_of_rooms.\n",
        "\n",
        "class House:\n",
        "    def __init__(self, address, price):\n",
        "        self.address = address\n",
        "        self.price = price\n",
        "\n",
        "    def get_info(self):\n",
        "        return f\"House located at {self.address}, Price: ₹{self.price}\"\n",
        "\n",
        "\n",
        "class Mansion(House):\n",
        "    def __init__(self, address, price, number_of_rooms):\n",
        "        super().__init__(address, price)\n",
        "        self.number_of_rooms = number_of_rooms\n",
        "\n",
        "    def get_info(self):\n",
        "        return f\"Mansion located at {self.address}, Price: ₹{self.price}, Rooms: {self.number_of_rooms}\"\n",
        "\n",
        "h1 = House(\"123 Green Street\", 5000000)\n",
        "m1 = Mansion(\"45 Royal Avenue\", 20000000, 15)\n",
        "\n",
        "print(h1.get_info())\n",
        "print(m1.get_info())\n"
      ],
      "metadata": {
        "colab": {
          "base_uri": "https://localhost:8080/"
        },
        "id": "bOxR99pkjY32",
        "outputId": "47c286c1-95b1-421f-bd68-409545d7fe32"
      },
      "execution_count": 14,
      "outputs": [
        {
          "output_type": "stream",
          "name": "stdout",
          "text": [
            "House located at 123 Green Street, Price: ₹5000000\n",
            "Mansion located at 45 Royal Avenue, Price: ₹20000000, Rooms: 15\n"
          ]
        }
      ]
    }
  ]
}